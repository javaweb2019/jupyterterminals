{
 "cells": [
  {
   "cell_type": "markdown",
   "metadata": {},
   "source": [
    "### Click the Terminal icon in the toolbar to insert a Jupyter terminal "
   ]
  },
  {
   "cell_type": "code",
   "execution_count": 3,
   "metadata": {},
   "outputs": [
    {
     "name": "stdout",
     "output_type": "stream",
     "text": [
      "This is a Jupyter Terminals demo notebook.\n"
     ]
    }
   ],
   "source": [
    "# Code cell\n",
    "print(\"This is a Jupyter Terminals demo notebook.\")"
   ]
  },
  {
   "cell_type": "markdown",
   "metadata": {
    "terminalCellId": "id_kz4zwlc",
    "terminalConfig": {
     "initialCommand": "",
     "rows": 6,
     "terminalId": "id_45jb2ru",
     "type": "terminal"
    }
   },
   "source": [
    "<i>Loading terminal (id_kz4zwlc), please wait... If you do not see an interactive terminal here eventually, you may need to install the JupyterTerminals extension, see: https://github.com/willkessler/jupyterterminals</i>"
   ]
  },
  {
   "cell_type": "markdown",
   "metadata": {
    "terminalCellId": "id_vgizjq1",
    "terminalConfig": {
     "buttonsConfig": {
      "id_4dtuy10": {
       "addCr": "true",
       "command": "echo \"Hello World\"",
       "targetCellId": "id_kz4zwlc"
      }
     },
     "type": "markdown"
    }
   },
   "source": [
    "<button class=\"terminal-button-id_4dtuy10\">Say hello</button>\n",
    "\n",
    "Click the button above to run a command in the terminal, or edit this cell's metadata to change the command the button runs."
   ]
  },
  {
   "cell_type": "markdown",
   "metadata": {},
   "source": [
    "### End of notebook"
   ]
  }
 ],
 "metadata": {
  "kernelspec": {
   "display_name": "Python 3",
   "language": "python",
   "name": "python3"
  },
  "language_info": {
   "codemirror_mode": {
    "name": "ipython",
    "version": 3
   },
   "file_extension": ".py",
   "mimetype": "text/x-python",
   "name": "python",
   "nbconvert_exporter": "python",
   "pygments_lexer": "ipython3",
   "version": "3.7.3"
  }
 },
 "nbformat": 4,
 "nbformat_minor": 2
}
